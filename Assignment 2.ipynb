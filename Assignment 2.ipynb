{
 "cells": [
  {
   "cell_type": "markdown",
   "metadata": {},
   "source": [
    "# Assignment 2\n",
    "Let's test your knowledge!"
   ]
  },
  {
   "cell_type": "markdown",
   "metadata": {},
   "source": []
  },
  {
   "cell_type": "markdown",
   "metadata": {},
   "source": [
    "_____"
   ]
  },
  {
   "cell_type": "markdown",
   "metadata": {},
   "source": [
    "**Use <code>for</code>, .split(), and <code>if</code> to create a Statement that will print out words that start with 's':**"
   ]
  },
  {
   "cell_type": "code",
   "execution_count": 1,
   "metadata": {},
   "outputs": [],
   "source": [
    "st = 'Print only the words that start with s in this sentence'"
   ]
  },
  {
   "cell_type": "code",
   "execution_count": 2,
   "metadata": {},
   "outputs": [
    {
     "name": "stdout",
     "output_type": "stream",
     "text": [
      "The Words start With s :start\n",
      "The Words start With s :s\n",
      "The Words start With s :sentence\n"
     ]
    }
   ],
   "source": [
    "#Code here\n",
    "\n",
    "#      ---syntex---\n",
    "\n",
    "#  Split(\"any mark\")\n",
    "\n",
    "# Split(), used to seprate words by using space or any mark you choose\n",
    "\n",
    "# ------------------------------------------------------------------\n",
    "\n",
    "statment=st.split() \n",
    "\n",
    "for word in statment :\n",
    "   \n",
    "    if word.startswith(\"s\"): # --> Check Word whether is Start with 's'Or Not\n",
    "        \n",
    "        print(f\"The Words start With s :{word}\")\n",
    "        "
   ]
  },
  {
   "cell_type": "markdown",
   "metadata": {},
   "source": [
    "______\n",
    "**Use range() to print all the even numbers from 0 to 10.**"
   ]
  },
  {
   "cell_type": "code",
   "execution_count": 3,
   "metadata": {},
   "outputs": [
    {
     "name": "stdout",
     "output_type": "stream",
     "text": [
      "The Even Number :  0\n",
      "The Even Number :  2\n",
      "The Even Number :  4\n",
      "The Even Number :  6\n",
      "The Even Number :  8\n"
     ]
    }
   ],
   "source": [
    "#     ---syntex--\n",
    "# range(start ,end ,step)\n",
    "# ----------------------------\n",
    "mynumbers=range(0,10,2)\n",
    "\n",
    "for num in mynumbers:\n",
    "\n",
    "    print(\"The Even Number : \",end=\" \")\n",
    "    \n",
    "    print(num)"
   ]
  },
  {
   "cell_type": "markdown",
   "metadata": {},
   "source": [
    "___\n",
    "**Use a List Comprehension to create a list of all numbers between 1 and 50 that are divisible by 3.**"
   ]
  },
  {
   "cell_type": "code",
   "execution_count": 4,
   "metadata": {},
   "outputs": [
    {
     "name": "stdout",
     "output_type": "stream",
     "text": [
      "The List Divisible by 3 : [3, 6, 9, 12, 15, 18, 21, 24, 27, 30, 33, 36, 39, 42, 45, 48]\n"
     ]
    }
   ],
   "source": [
    "#Code Here\n",
    "\n",
    "mylist=list(range(1,50))\n",
    "\n",
    "divisible3_list=[] # --> Empty list To append Number Divisible by 3\n",
    "\n",
    "for number in mylist:\n",
    "    \n",
    "    if number %3==0:  # --> check number whether is divisible by 3 or not\n",
    "        \n",
    "        divisible3_list.append(number)  # --> Append number divisible by 3 in Empty list\n",
    "        \n",
    "print(f\"The List Divisible by 3 : {divisible3_list}\")      \n",
    "        "
   ]
  },
  {
   "cell_type": "markdown",
   "metadata": {},
   "source": [
    "_____"
   ]
  },
  {
   "cell_type": "markdown",
   "metadata": {},
   "source": [
    "**Go through the string below and if the length of a word is even print \"even!\"**"
   ]
  },
  {
   "cell_type": "code",
   "execution_count": 5,
   "metadata": {},
   "outputs": [
    {
     "name": "stdout",
     "output_type": "stream",
     "text": [
      "The \"word\" is Even Length\n",
      "The \"in\" is Even Length\n",
      "The \"this\" is Even Length\n",
      "The \"sentence\" is Even Length\n",
      "The \"that\" is Even Length\n",
      "The \"an\" is Even Length\n",
      "The \"even\" is Even Length\n",
      "The \"number\" is Even Length\n",
      "The \"of\" is Even Length\n"
     ]
    }
   ],
   "source": [
    "st = 'Print every word in this sentence that has an even number of letters'\n",
    "\n",
    "#Code in this cell\n",
    "\n",
    "for word in st.split(): # --> Split(\"any mark\"), used to seprate words by using space or any mark you choose\n",
    "    \n",
    "    if len(word) %2==0: # --> Check Whether length is even Or Not\n",
    "        \n",
    "        print(f\"The \\\"{word}\\\" is Even Length\")"
   ]
  },
  {
   "cell_type": "markdown",
   "metadata": {},
   "source": [
    "____\n",
    "**Write a program that prints the integers from 1 to 100. But for multiples of three print \"Fizz\" instead of the number, and for the multiples of five print \"Buzz\". For numbers which are multiples of both three and five print \"FizzBuzz\".**"
   ]
  },
  {
   "cell_type": "code",
   "execution_count": 6,
   "metadata": {},
   "outputs": [
    {
     "name": "stdout",
     "output_type": "stream",
     "text": [
      "The number Not Multiples of Three Or Five : '1'\n",
      "The number Not Multiples of Three Or Five : '2'\n",
      "Fizz ,The Number Multiples Three : '3'\n",
      "The number Not Multiples of Three Or Five : '4'\n",
      "Buzz ,The Number Multiples Five : '5'\n",
      "Fizz ,The Number Multiples Three : '6'\n",
      "The number Not Multiples of Three Or Five : '7'\n",
      "The number Not Multiples of Three Or Five : '8'\n",
      "Fizz ,The Number Multiples Three : '9'\n",
      "Buzz ,The Number Multiples Five : '10'\n",
      "The number Not Multiples of Three Or Five : '11'\n",
      "Fizz ,The Number Multiples Three : '12'\n",
      "The number Not Multiples of Three Or Five : '13'\n",
      "The number Not Multiples of Three Or Five : '14'\n",
      "Fizz ,The Number Multiples Three : '15'\n",
      "The number Not Multiples of Three Or Five : '16'\n",
      "The number Not Multiples of Three Or Five : '17'\n",
      "Fizz ,The Number Multiples Three : '18'\n",
      "The number Not Multiples of Three Or Five : '19'\n",
      "Buzz ,The Number Multiples Five : '20'\n",
      "Fizz ,The Number Multiples Three : '21'\n",
      "The number Not Multiples of Three Or Five : '22'\n",
      "The number Not Multiples of Three Or Five : '23'\n",
      "Fizz ,The Number Multiples Three : '24'\n",
      "Buzz ,The Number Multiples Five : '25'\n",
      "The number Not Multiples of Three Or Five : '26'\n",
      "Fizz ,The Number Multiples Three : '27'\n",
      "The number Not Multiples of Three Or Five : '28'\n",
      "The number Not Multiples of Three Or Five : '29'\n",
      "Fizz ,The Number Multiples Three : '30'\n",
      "The number Not Multiples of Three Or Five : '31'\n",
      "The number Not Multiples of Three Or Five : '32'\n",
      "Fizz ,The Number Multiples Three : '33'\n",
      "The number Not Multiples of Three Or Five : '34'\n",
      "Buzz ,The Number Multiples Five : '35'\n",
      "Fizz ,The Number Multiples Three : '36'\n",
      "The number Not Multiples of Three Or Five : '37'\n",
      "The number Not Multiples of Three Or Five : '38'\n",
      "Fizz ,The Number Multiples Three : '39'\n",
      "Buzz ,The Number Multiples Five : '40'\n",
      "The number Not Multiples of Three Or Five : '41'\n",
      "Fizz ,The Number Multiples Three : '42'\n",
      "The number Not Multiples of Three Or Five : '43'\n",
      "The number Not Multiples of Three Or Five : '44'\n",
      "Fizz ,The Number Multiples Three : '45'\n",
      "The number Not Multiples of Three Or Five : '46'\n",
      "The number Not Multiples of Three Or Five : '47'\n",
      "Fizz ,The Number Multiples Three : '48'\n",
      "The number Not Multiples of Three Or Five : '49'\n",
      "Buzz ,The Number Multiples Five : '50'\n",
      "Fizz ,The Number Multiples Three : '51'\n",
      "The number Not Multiples of Three Or Five : '52'\n",
      "The number Not Multiples of Three Or Five : '53'\n",
      "Fizz ,The Number Multiples Three : '54'\n",
      "Buzz ,The Number Multiples Five : '55'\n",
      "The number Not Multiples of Three Or Five : '56'\n",
      "Fizz ,The Number Multiples Three : '57'\n",
      "The number Not Multiples of Three Or Five : '58'\n",
      "The number Not Multiples of Three Or Five : '59'\n",
      "Fizz ,The Number Multiples Three : '60'\n",
      "The number Not Multiples of Three Or Five : '61'\n",
      "The number Not Multiples of Three Or Five : '62'\n",
      "Fizz ,The Number Multiples Three : '63'\n",
      "The number Not Multiples of Three Or Five : '64'\n",
      "Buzz ,The Number Multiples Five : '65'\n",
      "Fizz ,The Number Multiples Three : '66'\n",
      "The number Not Multiples of Three Or Five : '67'\n",
      "The number Not Multiples of Three Or Five : '68'\n",
      "Fizz ,The Number Multiples Three : '69'\n",
      "Buzz ,The Number Multiples Five : '70'\n",
      "The number Not Multiples of Three Or Five : '71'\n",
      "Fizz ,The Number Multiples Three : '72'\n",
      "The number Not Multiples of Three Or Five : '73'\n",
      "The number Not Multiples of Three Or Five : '74'\n",
      "Fizz ,The Number Multiples Three : '75'\n",
      "The number Not Multiples of Three Or Five : '76'\n",
      "The number Not Multiples of Three Or Five : '77'\n",
      "Fizz ,The Number Multiples Three : '78'\n",
      "The number Not Multiples of Three Or Five : '79'\n",
      "Buzz ,The Number Multiples Five : '80'\n",
      "Fizz ,The Number Multiples Three : '81'\n",
      "The number Not Multiples of Three Or Five : '82'\n",
      "The number Not Multiples of Three Or Five : '83'\n",
      "Fizz ,The Number Multiples Three : '84'\n",
      "Buzz ,The Number Multiples Five : '85'\n",
      "The number Not Multiples of Three Or Five : '86'\n",
      "Fizz ,The Number Multiples Three : '87'\n",
      "The number Not Multiples of Three Or Five : '88'\n",
      "The number Not Multiples of Three Or Five : '89'\n",
      "Fizz ,The Number Multiples Three : '90'\n",
      "The number Not Multiples of Three Or Five : '91'\n",
      "The number Not Multiples of Three Or Five : '92'\n",
      "Fizz ,The Number Multiples Three : '93'\n",
      "The number Not Multiples of Three Or Five : '94'\n",
      "Buzz ,The Number Multiples Five : '95'\n",
      "Fizz ,The Number Multiples Three : '96'\n",
      "The number Not Multiples of Three Or Five : '97'\n",
      "The number Not Multiples of Three Or Five : '98'\n",
      "Fizz ,The Number Multiples Three : '99'\n"
     ]
    }
   ],
   "source": [
    "#Code in this cell\n",
    "\n",
    "mynumbers=range(1,100)\n",
    "\n",
    "for number in mynumbers:\n",
    "    \n",
    "    if number%3==0:   # --> Check Whether number is multiples of 3 or not\n",
    "        \n",
    "        print(f\"Fizz ,The Number Multiples Three : \\'{number}\\'\")\n",
    "              \n",
    "    elif number%5==0:  # --> Check Whether number is multiples of 5 or not\n",
    "        \n",
    "              print(f\"Buzz ,The Number Multiples Five : \\'{number}\\'\")\n",
    "              \n",
    "    elif number%3==0 and number %5==0:  # --> Check Whether number is multiples of 3 and 5 or not\n",
    "        \n",
    "              print(f\"FizzBuzz ,The Number Multiples Three and five : \\'{number}\\'\")\n",
    "              \n",
    "    else: \n",
    "              print(f\"The number Not Multiples of Three Or Five : \\'{number}\\'\")\n"
   ]
  },
  {
   "cell_type": "markdown",
   "metadata": {},
   "source": [
    "____\n",
    "**Use List Comprehension to create a list of the first letters of every word in the string below:**"
   ]
  },
  {
   "cell_type": "code",
   "execution_count": 7,
   "metadata": {},
   "outputs": [
    {
     "name": "stdout",
     "output_type": "stream",
     "text": [
      "The Letter List is : ['C', 'a', 'l', 'o', 't', 'f', 'l', 'o', 'e', 'w', 'i', 't', 's']\n"
     ]
    }
   ],
   "source": [
    "st = 'Create a list of the first letters of every word in this string'\n",
    "\n",
    "letter_list=[]\n",
    "\n",
    "for word in st.split():\n",
    "    \n",
    "    letter_list.append(word[0]) # --> Append First letter form every word\n",
    "    \n",
    "print(\"The Letter List is : {}\".format(letter_list)) "
   ]
  },
  {
   "cell_type": "code",
   "execution_count": null,
   "metadata": {},
   "outputs": [],
   "source": []
  },
  {
   "cell_type": "markdown",
   "metadata": {},
   "source": [
    "### Great Job!"
   ]
  }
 ],
 "metadata": {
  "kernelspec": {
   "display_name": "Python 3 (ipykernel)",
   "language": "python",
   "name": "python3"
  },
  "language_info": {
   "codemirror_mode": {
    "name": "ipython",
    "version": 3
   },
   "file_extension": ".py",
   "mimetype": "text/x-python",
   "name": "python",
   "nbconvert_exporter": "python",
   "pygments_lexer": "ipython3",
   "version": "3.10.9"
  }
 },
 "nbformat": 4,
 "nbformat_minor": 4
}
