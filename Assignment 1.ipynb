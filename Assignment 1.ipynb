{
 "cells": [
  {
   "cell_type": "markdown",
   "metadata": {},
   "source": [
    "# Assignment 1"
   ]
  },
  {
   "cell_type": "markdown",
   "metadata": {},
   "source": [
    "## Test your knowledge. \n",
    "\n",
    "** Answer the following questions **"
   ]
  },
  {
   "cell_type": "markdown",
   "metadata": {},
   "source": [
    "## Strings"
   ]
  },
  {
   "cell_type": "markdown",
   "metadata": {},
   "source": [
    "Given the string 'hello' give an index command that returns 'e'. Enter your code in the cell below:"
   ]
  },
  {
   "cell_type": "code",
   "execution_count": 1,
   "metadata": {},
   "outputs": [
    {
     "name": "stdout",
     "output_type": "stream",
     "text": [
      "Return letter : e\n"
     ]
    }
   ],
   "source": [
    "s = 'hello'\n",
    "# Print out 'e' using indexing\n",
    "\n",
    "print(f\"Return letter : {s[1]}\") # --> Return Value of index 1\n"
   ]
  },
  {
   "cell_type": "code",
   "execution_count": null,
   "metadata": {},
   "outputs": [],
   "source": []
  },
  {
   "cell_type": "markdown",
   "metadata": {},
   "source": [
    "Reverse the string 'hello' using slicing:"
   ]
  },
  {
   "cell_type": "code",
   "execution_count": 2,
   "metadata": {},
   "outputs": [
    {
     "name": "stdout",
     "output_type": "stream",
     "text": [
      "The Reverse String : olleh\n"
     ]
    }
   ],
   "source": [
    "s ='hello'\n",
    "# Reverse the string using slicing\n",
    "\n",
    "#  ---syntex--\n",
    "\n",
    "# string_name[start :end :step]\n",
    "\n",
    "# ----------------------------------------\n",
    "\n",
    "print(f\"The Reverse String : {s[: :-1]}\") # --> Return reverse the string\n"
   ]
  },
  {
   "cell_type": "code",
   "execution_count": null,
   "metadata": {},
   "outputs": [],
   "source": []
  },
  {
   "cell_type": "markdown",
   "metadata": {},
   "source": [
    "Given the string hello, give two methods of producing the letter 'o' using indexing."
   ]
  },
  {
   "cell_type": "code",
   "execution_count": 3,
   "metadata": {},
   "outputs": [
    {
     "name": "stdout",
     "output_type": "stream",
     "text": [
      "The First Method is : o\n"
     ]
    }
   ],
   "source": [
    "s ='hello'\n",
    "# Print out the 'o'\n",
    "\n",
    "# Method 1:\n",
    "\n",
    "print(f\"The First Method is : {s[4]}\") # --> Return value of index 4\n",
    "\n"
   ]
  },
  {
   "cell_type": "code",
   "execution_count": 4,
   "metadata": {},
   "outputs": [
    {
     "name": "stdout",
     "output_type": "stream",
     "text": [
      "The second Method is : o\n"
     ]
    }
   ],
   "source": [
    "# Method 2:\n",
    "\n",
    "print(f\"The second Method is : {s[-1]}\") # --> Return value of index 1 from End\n"
   ]
  },
  {
   "cell_type": "markdown",
   "metadata": {},
   "source": [
    "## Lists"
   ]
  },
  {
   "cell_type": "markdown",
   "metadata": {},
   "source": [
    "Build this list [0,0,0] two separate ways"
   ]
  },
  {
   "cell_type": "code",
   "execution_count": 5,
   "metadata": {},
   "outputs": [
    {
     "name": "stdout",
     "output_type": "stream",
     "text": [
      "First Method : [0, 0, 0]  \n"
     ]
    }
   ],
   "source": [
    "# Method 1:\n",
    "\n",
    "mylist=[0,0,0]\n",
    "\n",
    "print(\"First Method : {}  \".format(mylist))\n",
    "\n"
   ]
  },
  {
   "cell_type": "code",
   "execution_count": 6,
   "metadata": {},
   "outputs": [
    {
     "name": "stdout",
     "output_type": "stream",
     "text": [
      "Second Method :[0, 0, 0]\n"
     ]
    }
   ],
   "source": [
    "# Method 2:\n",
    "\n",
    "mynumbers=0,0,0\n",
    "\n",
    "mylist=list(mynumbers) # --> return Numbers in List\n",
    "\n",
    "print(f\"Second Method :{mylist}\")\n",
    "\n",
    "\n"
   ]
  },
  {
   "cell_type": "code",
   "execution_count": null,
   "metadata": {},
   "outputs": [],
   "source": []
  },
  {
   "cell_type": "markdown",
   "metadata": {},
   "source": [
    " Reassign 'hello' in this nested list to say 'goodbye' instead:"
   ]
  },
  {
   "cell_type": "code",
   "execution_count": 7,
   "metadata": {},
   "outputs": [
    {
     "name": "stdout",
     "output_type": "stream",
     "text": [
      "My list With Update : [1, 2, [3, 4, 'Good Bye']]\n"
     ]
    }
   ],
   "source": [
    "list3 = [1,2,[3,4,'hello']]\n",
    "\n",
    "list3[2][2]=\"Good Bye\" # --> Select index for \"hello\" and replace By \"Good bye\"\n",
    "\n",
    "print(\"My list With Update : {}\".format(list3))\n",
    "\n"
   ]
  },
  {
   "cell_type": "code",
   "execution_count": null,
   "metadata": {},
   "outputs": [],
   "source": []
  },
  {
   "cell_type": "markdown",
   "metadata": {},
   "source": [
    "Sort the list below:"
   ]
  },
  {
   "cell_type": "code",
   "execution_count": 8,
   "metadata": {},
   "outputs": [
    {
     "name": "stdout",
     "output_type": "stream",
     "text": [
      "The Sort List : [1, 3, 4, 5, 6]\n"
     ]
    }
   ],
   "source": [
    "list4 = [5,3,4,6,1]\n",
    "\n",
    "list4.sort() # --> To Sort List using Sort()\n",
    "\n",
    "print(f\"The Sort List : {list4}\")\n"
   ]
  },
  {
   "cell_type": "markdown",
   "metadata": {},
   "source": [
    "## Dictionaries"
   ]
  },
  {
   "cell_type": "markdown",
   "metadata": {},
   "source": [
    "Using keys and indexing, grab the 'hello' from the following dictionaries:"
   ]
  },
  {
   "cell_type": "code",
   "execution_count": 9,
   "metadata": {},
   "outputs": [
    {
     "name": "stdout",
     "output_type": "stream",
     "text": [
      "Grap The value : hello\n"
     ]
    }
   ],
   "source": [
    "#    -------Dictionary With One Demensional-------\n",
    "\n",
    "#              ----syntex----\n",
    "\n",
    "# Dict_name={\n",
    "#          'Key_name 1': value 1,\n",
    "#          'Key_name 2' :value 2 ,\n",
    "#          'Key_name 3' :value 3,\n",
    "#          }\n",
    "\n",
    "# ----------------------------------------------------\n",
    "\n",
    "d = {'simple_key':'hello'}\n",
    "# Grab 'hello'\n",
    "\n",
    "\n",
    "# ---- dictionary_name['key_name'] --> Return value Of Key ----\n",
    "\n",
    "print(f\"Grap The value : {d['simple_key']}\") \n"
   ]
  },
  {
   "cell_type": "code",
   "execution_count": null,
   "metadata": {},
   "outputs": [],
   "source": []
  },
  {
   "cell_type": "code",
   "execution_count": 10,
   "metadata": {},
   "outputs": [
    {
     "name": "stdout",
     "output_type": "stream",
     "text": [
      "Grap The value : hello\n"
     ]
    }
   ],
   "source": [
    "# -------- Dictionary With Two Dimensional-------\n",
    "\n",
    "#          ------- syntex-------\n",
    "\n",
    "# dict_name ={'key_name 1':{\n",
    "#                        'Child_key 1':value,\n",
    "#                        'Child_key 2':value\n",
    "#                        },\n",
    "\n",
    "#              'key_name 2' :{\n",
    "#                          ' Child_key 1' :value ,\n",
    "#                          ' Child_key 2' :value ,\n",
    "#                           }\n",
    "#           }\n",
    "# -------------------------------------------------------\n",
    "\n",
    "d = {'k1':{'k2':'hello'}}\n",
    "# Grab 'hello'\n",
    "\n",
    "# ----To Return Child_value----\n",
    "\n",
    "print(f\"Grap The value : {d['k1']['k2']}\") # --> dict_name['key'][child_key']\n"
   ]
  },
  {
   "cell_type": "code",
   "execution_count": null,
   "metadata": {},
   "outputs": [],
   "source": []
  },
  {
   "cell_type": "code",
   "execution_count": 11,
   "metadata": {},
   "outputs": [
    {
     "name": "stdout",
     "output_type": "stream",
     "text": [
      "Print Hello Word : hello\n"
     ]
    }
   ],
   "source": [
    "d = {'k1':\n",
    "     [{'nest_key':\n",
    "       ['this is deep',['hello']]\n",
    "      }]}\n",
    "\n",
    "#Grab hello\n",
    "\n",
    "Grab_hello=d['k1'][0]['nest_key'][1][0] \n",
    "\n",
    "print(f\"Print Hello Word : {Grab_hello}\")\n"
   ]
  },
  {
   "cell_type": "code",
   "execution_count": null,
   "metadata": {},
   "outputs": [],
   "source": []
  },
  {
   "cell_type": "code",
   "execution_count": 12,
   "metadata": {},
   "outputs": [
    {
     "name": "stdout",
     "output_type": "stream",
     "text": [
      "Print Hello Word :hello\n"
     ]
    }
   ],
   "source": [
    "d = {'k1':[1,2,{'k2':['this is tricky',{'tough':[1,2,['hello']]}]}]}\n",
    "\n",
    "#Grab hello\n",
    "\n",
    "print_hello=d['k1'][2]['k2'][1]['tough'][2][0]\n",
    "\n",
    "print(f\"Print Hello Word :{print_hello}\")\n",
    "    \n",
    "        "
   ]
  },
  {
   "cell_type": "markdown",
   "metadata": {},
   "source": [
    " Given the variables:"
   ]
  },
  {
   "cell_type": "markdown",
   "metadata": {},
   "source": [
    "    planet = \"Earth\"\n",
    "    diameter = 12742"
   ]
  },
  {
   "cell_type": "markdown",
   "metadata": {},
   "source": [
    " Use .format() to print the following string: "
   ]
  },
  {
   "cell_type": "markdown",
   "metadata": {},
   "source": [
    "    The diameter of Earth is 12742 kilometers."
   ]
  },
  {
   "cell_type": "code",
   "execution_count": 13,
   "metadata": {},
   "outputs": [
    {
     "name": "stdout",
     "output_type": "stream",
     "text": [
      "The Diameter of Earth is 12742 Kilometers \n"
     ]
    }
   ],
   "source": [
    "planet = \"Earth\"\n",
    "diameter = 12742\n",
    "\n",
    "print(\"The Diameter of {:s} is {:d} Kilometers \".format(planet,diameter))\n"
   ]
  },
  {
   "cell_type": "code",
   "execution_count": null,
   "metadata": {},
   "outputs": [],
   "source": []
  },
  {
   "cell_type": "markdown",
   "metadata": {},
   "source": [
    " Given this nested list, use indexing to grab the word \"hello\""
   ]
  },
  {
   "cell_type": "code",
   "execution_count": 14,
   "metadata": {},
   "outputs": [
    {
     "name": "stdout",
     "output_type": "stream",
     "text": [
      "The Grap Word is : hello\n"
     ]
    }
   ],
   "source": [
    "lst = [1,2,[3,4],[5,[100,200,['hello']],23,11],1,7]\n",
    "\n",
    "grap_hello=lst[3][1][2][0]\n",
    "\n",
    "print(f\"The Grap Word is : {grap_hello}\")"
   ]
  },
  {
   "cell_type": "code",
   "execution_count": null,
   "metadata": {},
   "outputs": [],
   "source": []
  },
  {
   "cell_type": "markdown",
   "metadata": {},
   "source": [
    " Given this nested dictionary grab the word \"hello\". "
   ]
  },
  {
   "cell_type": "code",
   "execution_count": 15,
   "metadata": {},
   "outputs": [
    {
     "name": "stdout",
     "output_type": "stream",
     "text": [
      "The Grap Word is : hello\n"
     ]
    }
   ],
   "source": [
    "d = {'k1':[1,2,3,{'tricky':['oh','man','inception',{'target':[1,2,3,'hello']}]}]}\n",
    "\n",
    "grap_hello=d['k1'][3]['tricky'][3]['target'][3]\n",
    "\n",
    "print(f\"The Grap Word is : {grap_hello}\")"
   ]
  },
  {
   "cell_type": "code",
   "execution_count": null,
   "metadata": {},
   "outputs": [],
   "source": []
  },
  {
   "cell_type": "markdown",
   "metadata": {},
   "source": [
    "### Write a Python program to swap two variables."
   ]
  },
  {
   "cell_type": "code",
   "execution_count": 16,
   "metadata": {},
   "outputs": [
    {
     "name": "stdout",
     "output_type": "stream",
     "text": [
      "Before swapping : \n",
      "Variable_1 : 2\n",
      "Variable_2 : 4\n",
      "----------------------------------------\n",
      "After Swapping : \n",
      "Variable_1 : 4\n",
      "Variable_2 : 2\n"
     ]
    }
   ],
   "source": [
    "variable_1=2\n",
    "variable_2=4\n",
    "swap_variable=\"\"\n",
    "\n",
    "print(\"Before swapping : \")\n",
    "print(f\"Variable_1 : {variable_1}\")\n",
    "print(f\"Variable_2 : {variable_2}\")\n",
    "\n",
    "print(\"-\"*40)\n",
    "\n",
    "print(\"After Swapping : \")\n",
    "\n",
    "swap_variable=variable_1  # --> swap_variable = 2\n",
    "\n",
    "variable_1=variable_2    # --> variable_1 = 4\n",
    "\n",
    "variable_2=swap_variable  # --> variable_2 = 2\n",
    "\n",
    "\n",
    "print(f\"Variable_1 : {variable_1}\")\n",
    "print(f\"Variable_2 : {variable_2}\")\n",
    "\n",
    "\n",
    " "
   ]
  },
  {
   "cell_type": "markdown",
   "metadata": {},
   "source": [
    "## Thanks"
   ]
  }
 ],
 "metadata": {
  "anaconda-cloud": {},
  "kernelspec": {
   "display_name": "Python 3 (ipykernel)",
   "language": "python",
   "name": "python3"
  },
  "language_info": {
   "codemirror_mode": {
    "name": "ipython",
    "version": 3
   },
   "file_extension": ".py",
   "mimetype": "text/x-python",
   "name": "python",
   "nbconvert_exporter": "python",
   "pygments_lexer": "ipython3",
   "version": "3.10.9"
  }
 },
 "nbformat": 4,
 "nbformat_minor": 4
}
