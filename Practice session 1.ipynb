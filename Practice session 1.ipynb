{
 "cells": [
  {
   "cell_type": "markdown",
   "id": "7bcbfc62-470b-47fb-b495-cc157ee010bd",
   "metadata": {
    "tags": []
   },
   "source": [
    "## Function "
   ]
  },
  {
   "cell_type": "markdown",
   "id": "9ddbbe12-2784-4faa-9799-8ba9e7fb71e4",
   "metadata": {},
   "source": [
    "- Write a function that takes two numbers as arguments and returns their sum."
   ]
  },
  {
   "cell_type": "code",
   "execution_count": 1,
   "id": "029a5666-3416-4670-9644-a19b5fd88d26",
   "metadata": {},
   "outputs": [
    {
     "name": "stdout",
     "output_type": "stream",
     "text": [
      "The Sum Is :25\n"
     ]
    }
   ],
   "source": [
    "# --------using lambda Function-------\n",
    "\n",
    "# --lambda syntex--\n",
    "\n",
    "# variable= lambda parameter : data\n",
    "\n",
    "# print(variable(parameter value))\n",
    "\n",
    "# ------------------------------\n",
    "\n",
    "sum_fun=lambda num1,num2 :f\"The Sum Is :{num1+num2}\"\n",
    "\n",
    "print(sum_fun(10,15))\n"
   ]
  },
  {
   "cell_type": "code",
   "execution_count": 2,
   "id": "f7e0881d-061d-410e-9208-0c4dcd6f0e9a",
   "metadata": {},
   "outputs": [
    {
     "name": "stdin",
     "output_type": "stream",
     "text": [
      "please Enter value of Number 1 :  25\n",
      "please Enter value of Number 2 :  10\n"
     ]
    },
    {
     "data": {
      "text/plain": [
       "'the sum is : 35'"
      ]
     },
     "execution_count": 2,
     "metadata": {},
     "output_type": "execute_result"
    }
   ],
   "source": [
    "#-------other  solution by using input---------\n",
    "\n",
    "n1=int(input(\"please Enter value of Number 1 : \"))\n",
    "n2=int(input(\"please Enter value of Number 2 : \"))\n",
    "\n",
    "def sum_num(n1,n2):\n",
    "   \n",
    "    return f\"the sum is : {n1+n2}\"\n",
    "\n",
    "sum_num(n1,n2)"
   ]
  },
  {
   "cell_type": "code",
   "execution_count": null,
   "id": "7c153a20-ac3e-44cf-b8a9-60c250bed082",
   "metadata": {},
   "outputs": [],
   "source": []
  },
  {
   "cell_type": "markdown",
   "id": "c6c90bb5-b251-407e-b13a-4c3a320f20ac",
   "metadata": {},
   "source": [
    "- Write a function that takes a list of numbers as an argument and returns the sum of those numbers."
   ]
  },
  {
   "cell_type": "code",
   "execution_count": 3,
   "id": "13e36074-9d7d-4c6d-9652-71c37a63b20c",
   "metadata": {},
   "outputs": [
    {
     "data": {
      "text/plain": [
       "'The Sum of List: 79'"
      ]
     },
     "execution_count": 3,
     "metadata": {},
     "output_type": "execute_result"
    }
   ],
   "source": [
    "# [1]\n",
    "\n",
    "my_numbers=[2,5,6,7,8,12,23,16]\n",
    "\n",
    "def sum_list(my_numbers):\n",
    "    \n",
    "       return f\"The Sum of List: {sum(my_numbers)}\"\n",
    "    \n",
    "sum_list(my_numbers)"
   ]
  },
  {
   "cell_type": "code",
   "execution_count": 4,
   "id": "f8a90255-14a2-45e5-a265-646a13fd4167",
   "metadata": {},
   "outputs": [
    {
     "name": "stdout",
     "output_type": "stream",
     "text": [
      "The Sum of List : 79\n"
     ]
    }
   ],
   "source": [
    "# [2]\n",
    "# -----by using lambda function---\n",
    "\n",
    "my_numbers=[2,5,6,7,8,12,23,16]\n",
    "\n",
    "sum_fun= lambda num : f\"The Sum of List : {sum(my_numbers)}\"\n",
    "\n",
    "print(sum_fun(my_numbers))\n",
    "    "
   ]
  },
  {
   "cell_type": "markdown",
   "id": "5b13316d-6e99-40cc-8e20-c1cef178b500",
   "metadata": {},
   "source": [
    "- Write a function that takes a string as an argument and returns the length of that string."
   ]
  },
  {
   "cell_type": "code",
   "execution_count": 5,
   "id": "faf27133-fcec-4fb1-8ee5-33fe55d782ad",
   "metadata": {
    "tags": []
   },
   "outputs": [
    {
     "data": {
      "text/plain": [
       "'The Length Of My Word Is : 29'"
      ]
     },
     "execution_count": 5,
     "metadata": {},
     "output_type": "execute_result"
    }
   ],
   "source": [
    "# [1]\n",
    "\n",
    "word=\"Hi Dr Jehad ,Nice To Meet You\"\n",
    "\n",
    "def len_fun(word):\n",
    "    \n",
    "    return f\"The Length Of My Word Is : {len(word)}\"\n",
    "\n",
    "len_fun(word)"
   ]
  },
  {
   "cell_type": "code",
   "execution_count": 6,
   "id": "27be1bcc-8ea4-4427-a2ba-b45e82fa08de",
   "metadata": {},
   "outputs": [
    {
     "name": "stdout",
     "output_type": "stream",
     "text": [
      "The Length Of My Word Is => 29\n"
     ]
    }
   ],
   "source": [
    "# [2]\n",
    "\n",
    "#----by using lambda function----\n",
    "\n",
    "len_fun=lambda w : f\"The Length Of My Word Is => {len(word)}\"\n",
    "print(len_fun(word))\n"
   ]
  },
  {
   "cell_type": "code",
   "execution_count": null,
   "id": "1c7a114c-ff60-408f-aea1-1f816e035b23",
   "metadata": {},
   "outputs": [],
   "source": []
  },
  {
   "cell_type": "markdown",
   "id": "4f940a21-5052-4cf3-85ed-ec3f0b757f55",
   "metadata": {},
   "source": [
    "- Write a function that takes a list of strings as an argument and returns the length of the longest string in the list."
   ]
  },
  {
   "cell_type": "code",
   "execution_count": 7,
   "id": "5693438e-3fe4-404c-88d9-8b4ed097a19c",
   "metadata": {},
   "outputs": [
    {
     "data": {
      "text/plain": [
       "'The Name With Longest length : \"Mostafaa\" and The Length is : \"8\"'"
      ]
     },
     "execution_count": 7,
     "metadata": {},
     "output_type": "execute_result"
    }
   ],
   "source": [
    "myFriends=[\"Ahmed\",\"Mohamed\",\"Adel\",\"Marwan\",\"Mostafaa\"]\n",
    "\n",
    "def long_str(myFriends):\n",
    "    \n",
    "    longest_length=0\n",
    "    \n",
    "    longest_string=\"\"\n",
    "    \n",
    "    for person in myFriends:\n",
    "        \n",
    "        if len(person)>longest_length:\n",
    "            \n",
    "            longest_length=len(person)\n",
    "            \n",
    "            longest_string=person\n",
    "           \n",
    "            \n",
    "    return f\"The Name With Longest length : \\\"{longest_string}\\\" and The Length is : \\\"{longest_length}\\\"\"\n",
    "\n",
    "            \n",
    "long_str(myFriends)        \n",
    "    \n",
    "    "
   ]
  },
  {
   "cell_type": "code",
   "execution_count": null,
   "id": "22c10c9c-74ef-4e2b-9032-abdddf4505e9",
   "metadata": {},
   "outputs": [],
   "source": []
  },
  {
   "cell_type": "markdown",
   "id": "c32bc5e5-da6a-4fc1-b634-84f58974b6a8",
   "metadata": {},
   "source": [
    "- Write a function that takes a list of numbers as an argument and returns the average of those numbers."
   ]
  },
  {
   "cell_type": "code",
   "execution_count": 8,
   "id": "e2a2b96f-1918-494a-bda5-47d1d5027249",
   "metadata": {},
   "outputs": [
    {
     "data": {
      "text/plain": [
       "'The Average Of Numbers is : 5.5'"
      ]
     },
     "execution_count": 8,
     "metadata": {},
     "output_type": "execute_result"
    }
   ],
   "source": [
    "# [1]\n",
    "\n",
    "mynumbers=[1,2,3,4,5,6,7,8,9,10]\n",
    "\n",
    "def avg_fun(mynumbers):\n",
    "    \n",
    "    return f\"The Average Of Numbers is : {(sum(mynumbers)/len(mynumbers))}\"\n",
    "\n",
    "avg_fun(mynumbers)"
   ]
  },
  {
   "cell_type": "code",
   "execution_count": 9,
   "id": "e1ad7d48-cb7a-4393-8c6a-96bb4354ebed",
   "metadata": {},
   "outputs": [
    {
     "name": "stdout",
     "output_type": "stream",
     "text": [
      "The Average Of Numbers is :6.666666666666667\n"
     ]
    }
   ],
   "source": [
    "# [2]\n",
    "\n",
    "# -------other solution by using lambda function--------\n",
    "\n",
    "mynumbers=[1,2,3,4,5,6,7,8,9,10,12,13]\n",
    "\n",
    "Average_fun=lambda number : f\"The Average Of Numbers is :{(sum(mynumbers)/len(mynumbers))}\"\n",
    "\n",
    "print(Average_fun(mynumbers))\n"
   ]
  },
  {
   "cell_type": "code",
   "execution_count": null,
   "id": "9ab1491a-423c-4567-a796-cdd947fc056d",
   "metadata": {},
   "outputs": [],
   "source": []
  },
  {
   "cell_type": "markdown",
   "id": "5f9433a6-3279-4065-bcba-660bb58d6421",
   "metadata": {},
   "source": [
    "- Write a function that takes a string as an argument and returns True if the string is a palindrome (reads the same forwards and backwards) and False otherwise."
   ]
  },
  {
   "cell_type": "code",
   "execution_count": 10,
   "id": "418ba50a-10c5-464a-99aa-b1c82d7bb588",
   "metadata": {},
   "outputs": [
    {
     "name": "stdin",
     "output_type": "stream",
     "text": [
      "please Enter word To check it :  eslam\n"
     ]
    },
    {
     "name": "stdout",
     "output_type": "stream",
     "text": [
      "The String is Not Palindrome\n"
     ]
    }
   ],
   "source": [
    "N=input(\"please Enter word To check it : \")\n",
    "\n",
    "def check_fun(N):\n",
    "    \n",
    "    if N[ : ]==N[ : :-1]:\n",
    "        \n",
    "        print(\"The String is Palindrome\")\n",
    "        \n",
    "    else:\n",
    "        print(\"The String is Not Palindrome\")\n",
    "        \n",
    "check_fun(N)       \n"
   ]
  },
  {
   "cell_type": "code",
   "execution_count": null,
   "id": "7f4cc590-1d95-4619-8451-eaebd27132ea",
   "metadata": {},
   "outputs": [],
   "source": []
  },
  {
   "cell_type": "markdown",
   "id": "6572eb4a-7322-4def-b606-896135c22124",
   "metadata": {},
   "source": [
    "- Write a function that takes a list of numbers as an argument and returns a new list containing only the even numbers from the original list."
   ]
  },
  {
   "cell_type": "code",
   "execution_count": 11,
   "id": "52a9054a-f8fc-4fa6-b94e-0623a0f7093e",
   "metadata": {},
   "outputs": [
    {
     "name": "stdout",
     "output_type": "stream",
     "text": [
      "The Even List : [2, 4, 6, 8, 10, 12, 14]\n"
     ]
    }
   ],
   "source": [
    "even_list=[]\n",
    "\n",
    "def check_num(original_list):\n",
    "\n",
    "\n",
    "    for number in original_list:\n",
    "        \n",
    "        if number %2==0:\n",
    "            \n",
    "              even_list.append(number)\n",
    "            \n",
    "    print(f\"The Even List : {even_list}\")\n",
    "        \n",
    "             \n",
    "            \n",
    "check_num([1,2,3,4,5,6,7,8,9,10,11,12,14])    \n"
   ]
  },
  {
   "cell_type": "code",
   "execution_count": null,
   "id": "c8c91a17-7c46-48b6-ae79-cc6bdb94bf8b",
   "metadata": {},
   "outputs": [],
   "source": [
    "         "
   ]
  },
  {
   "cell_type": "markdown",
   "id": "1ba77608-13ac-4dd4-9aa3-322cc099e485",
   "metadata": {},
   "source": [
    "- Write a function that takes a list of numbers as an argument and returns a new list containing the squares of those numbers."
   ]
  },
  {
   "cell_type": "code",
   "execution_count": 12,
   "id": "1e2e22ef-86bd-4f40-af4a-8f2951e2ccbf",
   "metadata": {},
   "outputs": [
    {
     "name": "stdout",
     "output_type": "stream",
     "text": [
      "The Square List is => [1, 4, 9, 16, 25, 36, 49, 64, 81]\n"
     ]
    }
   ],
   "source": [
    "numbers=[1,2,3,4,5,6,7,8,9]\n",
    "square_list=[]\n",
    "\n",
    "def square_fun(numbers):\n",
    "    \n",
    "    for num in numbers:\n",
    "        \n",
    "        square_list.append(num**2)\n",
    "        \n",
    "    print(f\"The Square List is => {square_list}\")\n",
    "    \n",
    "    \n",
    "square_fun(numbers)    \n",
    "    "
   ]
  },
  {
   "cell_type": "code",
   "execution_count": null,
   "id": "c8e84052-20e3-4031-88bf-a984b4f58063",
   "metadata": {},
   "outputs": [],
   "source": [
    "       "
   ]
  }
 ],
 "metadata": {
  "kernelspec": {
   "display_name": "Python 3 (ipykernel)",
   "language": "python",
   "name": "python3"
  },
  "language_info": {
   "codemirror_mode": {
    "name": "ipython",
    "version": 3
   },
   "file_extension": ".py",
   "mimetype": "text/x-python",
   "name": "python",
   "nbconvert_exporter": "python",
   "pygments_lexer": "ipython3",
   "version": "3.10.9"
  }
 },
 "nbformat": 4,
 "nbformat_minor": 5
}
